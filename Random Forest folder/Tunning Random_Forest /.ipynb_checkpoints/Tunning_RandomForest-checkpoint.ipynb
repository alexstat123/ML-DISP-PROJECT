{
 "cells": [
  {
   "cell_type": "markdown",
   "metadata": {},
   "source": [
    "                                    IMPORTING FEATURES MATRIX"
   ]
  },
  {
   "cell_type": "code",
   "execution_count": 2,
   "metadata": {},
   "outputs": [
    {
     "name": "stderr",
     "output_type": "stream",
     "text": [
      "/Applications/anaconda3/lib/python3.6/site-packages/sklearn/cross_validation.py:41: DeprecationWarning: This module was deprecated in version 0.18 in favor of the model_selection module into which all the refactored classes and functions are moved. Also note that the interface of the new CV iterators are different from that of this module. This module will be removed in 0.20.\n",
      "  \"This module will be removed in 0.20.\", DeprecationWarning)\n",
      "/Applications/anaconda3/lib/python3.6/site-packages/sklearn/grid_search.py:42: DeprecationWarning: This module was deprecated in version 0.18 in favor of the model_selection module into which all the refactored classes and functions are moved. This module will be removed in 0.20.\n",
      "  DeprecationWarning)\n"
     ]
    }
   ],
   "source": [
    "import numpy as np\n",
    "from scipy import signal\n",
    "import matplotlib.pyplot as plt\n",
    "from matplotlib import cm\n",
    "from skimage import data, color, img_as_float, img_as_ubyte, filters, feature\n",
    "from skimage import draw as drw\n",
    "import matplotlib.ticker as plticker\n",
    "from PIL import Image, ImageDraw\n",
    "import matplotlib.patches as patches\n",
    "import csv\n",
    "import math\n",
    "import timeit\n",
    "\n",
    "%matplotlib inline\n",
    "from IPython.display import HTML, display\n",
    "import numpy as np\n",
    "from sklearn import preprocessing, cross_validation, neighbors,svm,tree\n",
    "import pandas as pd\n",
    "from pandas import DataFrame\n",
    "import csv\n",
    "from skimage import data, color, img_as_float, img_as_ubyte, filters, feature\n",
    "import matplotlib.pyplot as plt\n",
    "from numpy import genfromtxt\n",
    "from sklearn.neural_network import MLPClassifier\n",
    "from sklearn.ensemble import RandomForestClassifier\n",
    "from sklearn.model_selection import RandomizedSearchCV\n",
    "from sklearn.model_selection import GridSearchCV\n",
    "from sklearn.grid_search import RandomizedSearchCV\n",
    "from sklearn import preprocessing\n",
    "from scipy.stats import randint as sp_randint\n",
    "from time import time\n",
    "from sklearn.datasets import load_digits\n",
    "from scipy import stats\n",
    "from sklearn.metrics import confusion_matrix\n",
    "import itertools\n",
    "from sklearn.model_selection import train_test_split\n",
    "from sklearn.ensemble import RandomForestRegressor\n",
    "from sklearn.metrics import roc_auc_score"
   ]
  },
  {
   "cell_type": "code",
   "execution_count": 4,
   "metadata": {
    "collapsed": true
   },
   "outputs": [],
   "source": [
    "#trying to access features_vectors csv file from another folder, add column 'class' and upload it to this folder \n",
    "#under name processed_data.csv\n",
    "read_anothers_folder_csv = pd.read_csv('../../data_preparation/patches.csv') #read csv feature vectors csv file from data_preparation folder\n",
    "\n",
    "#array of columns with 'class' label \n",
    "array = []\n",
    "grid_size = 2\n",
    "for gr in range(grid_size**2):\n",
    "    array.append('p')\n",
    "array.append('class')\n",
    "\n",
    "#add columns name to features_vectors data \n",
    "df2 = pd.DataFrame(read_anothers_folder_csv)\n",
    "df2.columns= array  \n",
    "#create newly labeled features_vectros data in this knn folder \n",
    "df2.to_csv('processed_data.csv',index=False)    # here was df2.to_csv('processed_data.csv')\n",
    "#df2        "
   ]
  },
  {
   "cell_type": "markdown",
   "metadata": {},
   "source": [
    "                                          HYPERPARAMETERS"
   ]
  },
  {
   "cell_type": "markdown",
   "metadata": {},
   "source": [
    "https://www.analyticsvidhya.com › Business Analytics\n",
    "\n",
    "There are primarily 3 features which can be tuned to improve the predictive power of the model :\n",
    "\n",
    "1.a. max_features (default=”auto”):\n",
    "These are the maximum number of features Random Forest is allowed to try in individual tree. There are multiple options available in Python to assign maximum features. Here are a few of them :\n",
    "Increasing max_features generally improves the performance of the model as at each node now we have a higher number of options to be considered. However, this is not necessarily true as this decreases the diversity of individual tree which is the USP of random forest. But, for sure, you decrease the speed of algorithm by increasing the max_features. Hence, you need to strike the right balance and choose the optimal max_features.\n",
    "\n",
    "1.b. n_estimators (default=10):\n",
    "This is the number of trees you want to build before taking the maximum voting or averages of predictions. Higher number of trees give you better performance but makes your code slower. You should choose as high value as your processor can handle because this makes your predictions stronger and more stable.\n",
    "\n",
    "1.c. min_sample_leaf (default=1):\n",
    "If you have built a decision tree before, you can appreciate the importance of minimum sample leaf size. Leaf is the end node of a decision tree. A smaller leaf makes the model more prone to capturing noise in train data. Generally I prefer a minimum leaf size of more than 50. However, you should try multiple leaf sizes to find the most optimum for your use case.\n"
   ]
  },
  {
   "cell_type": "markdown",
   "metadata": {},
   "source": [
    "                                      RANDOM FOREST PARAMETERS \n",
    "                                      \n",
    "                                      RandomForestClassifier(n_estimators=10, criterion=’gini’, max_depth=None, min_samples_split=2, min_samples_leaf=1, min_weight_fraction_leaf=0.0, max_features=’auto’, max_leaf_nodes=None, min_impurity_decrease=0.0, min_impurity_split=None, bootstrap=True, oob_score=False, n_jobs=1, random_state=None, verbose=0, warm_start=False, class_weight=None)"
   ]
  },
  {
   "cell_type": "markdown",
   "metadata": {},
   "source": [
    "                                          GRID SEARCH"
   ]
  },
  {
   "cell_type": "code",
   "execution_count": 40,
   "metadata": {
    "collapsed": true
   },
   "outputs": [],
   "source": [
    "# Hyper Parameter Optimization \n",
    "#we need sequential model-based optimisation\n",
    "df = pd.read_csv('processed_data.csv')   #'feature_vectors.csv' was here \n",
    "x = np.array(df.drop(['class'],1))\n",
    "y = np.array(df['class'])"
   ]
  },
  {
   "cell_type": "code",
   "execution_count": 41,
   "metadata": {},
   "outputs": [
    {
     "name": "stdout",
     "output_type": "stream",
     "text": [
      "RandomizedSearchCV took 1059.62 seconds for 10 candidates parameter settings.\n"
     ]
    }
   ],
   "source": [
    "#Normalising the data in range (0,1)\n",
    "min_max_scaler = preprocessing.MinMaxScaler()\n",
    "X_train_minmax = min_max_scaler.fit_transform(x)\n",
    "\n",
    "x_train, x_test, y_train, y_test = cross_validation.train_test_split(X_train_minmax,y,test_size=0.2)\n",
    "clf = RandomForestClassifier(n_estimators=10,min_samples_leaf = 8)\n",
    "\n",
    "\n",
    "#parameters to try to optymise\n",
    "#create a parameter grid: map the parameter names to the values that should be searched                                                                                     \n",
    "#param_grid = [{'alpha': [0.0001,0.0002,0.0003,0.0004], 'activation': ['identity', 'logistic', 'tanh', 'relu'],'learning_rate': ['constant', 'invscaling', 'adaptive']}]\n",
    "param_grid = [{'max_features': ['auto', 'sqrt', 'log2'],\n",
    "              'n_estimators': [10,100],\n",
    "              'min_samples_leaf': [1,10]}] \n",
    "\n",
    "#instantiate the grid\n",
    "grid = GridSearchCV(clf, param_grid, n_jobs = -1 ,scoring = 'accuracy') #cv=10, 10 crossfold cross validation \n",
    "\n",
    "start = time()\n",
    "#fit rhe grid with data\n",
    "grid.fit(x_train,y_train)\n",
    "\n",
    "x =10\n",
    "print(\"RandomizedSearchCV took %.2f seconds for %d candidates\"\n",
    "      \" parameter settings.\" % ((time() - start),x))"
   ]
  },
  {
   "cell_type": "code",
   "execution_count": 42,
   "metadata": {},
   "outputs": [
    {
     "name": "stderr",
     "output_type": "stream",
     "text": [
      "/Applications/anaconda3/lib/python3.6/site-packages/sklearn/model_selection/_search.py:761: DeprecationWarning: The grid_scores_ attribute was deprecated in version 0.18 in favor of the more elaborate cv_results_ attribute. The grid_scores_ attribute will not be available from 0.20\n",
      "  DeprecationWarning)\n"
     ]
    },
    {
     "data": {
      "text/plain": [
       "[mean: 0.89433, std: 0.00011, params: {'max_features': 'auto', 'min_samples_leaf': 1, 'n_estimators': 10},\n",
       " mean: 0.89924, std: 0.00034, params: {'max_features': 'auto', 'min_samples_leaf': 1, 'n_estimators': 100},\n",
       " mean: 0.89763, std: 0.00016, params: {'max_features': 'auto', 'min_samples_leaf': 10, 'n_estimators': 10},\n",
       " mean: 0.89917, std: 0.00035, params: {'max_features': 'auto', 'min_samples_leaf': 10, 'n_estimators': 100},\n",
       " mean: 0.89417, std: 0.00021, params: {'max_features': 'sqrt', 'min_samples_leaf': 1, 'n_estimators': 10},\n",
       " mean: 0.89904, std: 0.00039, params: {'max_features': 'sqrt', 'min_samples_leaf': 1, 'n_estimators': 100},\n",
       " mean: 0.89750, std: 0.00010, params: {'max_features': 'sqrt', 'min_samples_leaf': 10, 'n_estimators': 10},\n",
       " mean: 0.89914, std: 0.00045, params: {'max_features': 'sqrt', 'min_samples_leaf': 10, 'n_estimators': 100},\n",
       " mean: 0.89430, std: 0.00005, params: {'max_features': 'log2', 'min_samples_leaf': 1, 'n_estimators': 10},\n",
       " mean: 0.89910, std: 0.00021, params: {'max_features': 'log2', 'min_samples_leaf': 1, 'n_estimators': 100},\n",
       " mean: 0.89729, std: 0.00035, params: {'max_features': 'log2', 'min_samples_leaf': 10, 'n_estimators': 10},\n",
       " mean: 0.89938, std: 0.00017, params: {'max_features': 'log2', 'min_samples_leaf': 10, 'n_estimators': 100}]"
      ]
     },
     "execution_count": 42,
     "metadata": {},
     "output_type": "execute_result"
    }
   ],
   "source": [
    "#view the complete results(list of named tuples) \n",
    "grid.grid_scores_"
   ]
  },
  {
   "cell_type": "code",
   "execution_count": null,
   "metadata": {
    "collapsed": true
   },
   "outputs": [],
   "source": [
    "#create a list of the mean scores only\n",
    "grid_mean_scores =[result.mean_validation_score for result in grid.grid_scores_]\n",
    "print (grid_mean_scores)"
   ]
  },
  {
   "cell_type": "code",
   "execution_count": null,
   "metadata": {
    "collapsed": true
   },
   "outputs": [],
   "source": [
    "#examin the best model\n",
    "print (grid.best_score_)\n",
    "print (grid.best_params_)\n",
    "print (grid.best_estimator_)"
   ]
  },
  {
   "cell_type": "markdown",
   "metadata": {
    "collapsed": true
   },
   "source": [
    "                                         RANDOMIZED SEARCH"
   ]
  },
  {
   "cell_type": "code",
   "execution_count": null,
   "metadata": {
    "collapsed": true
   },
   "outputs": [],
   "source": [
    "# Hyper Parameter Optimization \n",
    "#we need sequential model-based optimisation\n",
    "df = pd.read_csv('processed_data.csv')   #'feature_vectors.csv' was here \n",
    "x = np.array(df.drop(['class'],1))\n",
    "y = np.array(df['class'])\n",
    "\n",
    "#Normalising the data in range (0,1)\n",
    "min_max_scaler = preprocessing.MinMaxScaler()\n",
    "X_train_minmax = min_max_scaler.fit_transform(x)\n",
    "\n",
    "x_train, x_test, y_train, y_test = cross_validation.train_test_split(X_train_minmax,y,test_size=0.2)\n",
    "clf = RandomForestClassifier(n_estimators=10,min_samples_leaf = 8)\n",
    "\n",
    "\n",
    "#parameters to try to optymise\n",
    "#create a parameter grid: map the parameter names to the values that should be searched                                                                                     \n",
    "\n",
    "#param_grid to check combnations of randomly \n",
    "param_grid={\n",
    "    'max_features': ['auto', 'sqrt', 'log2',0.9,0.2],\n",
    "    'n_estimators': stats.randint(1, 130),\n",
    "    'min_samples_leaf': stats.randint(1, 20)}\n",
    "\n",
    "#instantiate the grid\n",
    "n_iter_search = 10\n",
    "grid = RandomizedSearchCV(clf, param_distributions=param_grid,n_iter=n_iter_search,n_jobs = -1,scoring = 'accuracy')\n",
    "\n",
    "\n",
    "start = time()\n",
    "\n",
    "#fit rhe grid with data\n",
    "grid.fit(x_train,y_train)\n",
    "\n",
    "print(\"RandomizedSearchCV took %.2f seconds for %d candidates\"\n",
    "      \" parameter settings.\" % ((time() - start), n_iter_search))\n",
    "#report(grid.cv_results_) result in 951 seconds, second time 472, 1417s for 20 samples"
   ]
  },
  {
   "cell_type": "code",
   "execution_count": 5,
   "metadata": {},
   "outputs": [
    {
     "data": {
      "text/plain": [
       "[mean: 0.89938, std: 0.00022, params: {'max_features': 0.2, 'min_samples_leaf': 9, 'n_estimators': 77},\n",
       " mean: 0.89775, std: 0.00007, params: {'max_features': 'sqrt', 'min_samples_leaf': 1, 'n_estimators': 35},\n",
       " mean: 0.89800, std: 0.00030, params: {'max_features': 'auto', 'min_samples_leaf': 5, 'n_estimators': 22},\n",
       " mean: 0.89817, std: 0.00076, params: {'max_features': 0.2, 'min_samples_leaf': 10, 'n_estimators': 13},\n",
       " mean: 0.89914, std: 0.00042, params: {'max_features': 'sqrt', 'min_samples_leaf': 14, 'n_estimators': 123},\n",
       " mean: 0.89935, std: 0.00039, params: {'max_features': 0.2, 'min_samples_leaf': 6, 'n_estimators': 83},\n",
       " mean: 0.89924, std: 0.00034, params: {'max_features': 'auto', 'min_samples_leaf': 6, 'n_estimators': 86},\n",
       " mean: 0.89882, std: 0.00016, params: {'max_features': 'sqrt', 'min_samples_leaf': 3, 'n_estimators': 47},\n",
       " mean: 0.89913, std: 0.00038, params: {'max_features': 'sqrt', 'min_samples_leaf': 13, 'n_estimators': 74},\n",
       " mean: 0.89888, std: 0.00013, params: {'max_features': 'log2', 'min_samples_leaf': 1, 'n_estimators': 125}]"
      ]
     },
     "execution_count": 5,
     "metadata": {},
     "output_type": "execute_result"
    }
   ],
   "source": [
    "grid.grid_scores_"
   ]
  },
  {
   "cell_type": "code",
   "execution_count": 6,
   "metadata": {},
   "outputs": [
    {
     "name": "stdout",
     "output_type": "stream",
     "text": [
      "[0.8993840605751893, 0.8977528054775171, 0.8979965562392382, 0.8981653067665837, 0.8991403098134682, 0.8993496854677671, 0.8992434351357348, 0.8988184338076056, 0.8991309347841712, 0.8988840590126844]\n"
     ]
    }
   ],
   "source": [
    "#create a list of the mean scores only\n",
    "grid_mean_scores =[result.mean_validation_score for result in grid.grid_scores_]\n",
    "print (grid_mean_scores)"
   ]
  },
  {
   "cell_type": "code",
   "execution_count": 7,
   "metadata": {},
   "outputs": [
    {
     "name": "stdout",
     "output_type": "stream",
     "text": [
      "0.8993840605751893\n",
      "{'max_features': 0.2, 'min_samples_leaf': 9, 'n_estimators': 77}\n",
      "RandomForestClassifier(bootstrap=True, class_weight=None, criterion='gini',\n",
      "            max_depth=None, max_features=0.2, max_leaf_nodes=None,\n",
      "            min_impurity_decrease=0.0, min_impurity_split=None,\n",
      "            min_samples_leaf=9, min_samples_split=2,\n",
      "            min_weight_fraction_leaf=0.0, n_estimators=77, n_jobs=1,\n",
      "            oob_score=False, random_state=None, verbose=0,\n",
      "            warm_start=False)\n"
     ]
    }
   ],
   "source": [
    "#examin the best model\n",
    "print (grid.best_score_)\n",
    "print (grid.best_params_)\n",
    "print (grid.best_estimator_)"
   ]
  },
  {
   "cell_type": "markdown",
   "metadata": {},
   "source": [
    "                                            BEST RESULT"
   ]
  },
  {
   "cell_type": "markdown",
   "metadata": {},
   "source": [
    "0.8958477857800538\n",
    "{'max_features': 'sqrt', 'min_samples_leaf': 11, 'n_estimators': 105}\n",
    "RandomForestClassifier(bootstrap=True, class_weight=None, criterion='gini',\n",
    "            max_depth=None, max_features='sqrt', max_leaf_nodes=None,\n",
    "            min_impurity_decrease=0.0, min_impurity_split=None,\n",
    "            min_samples_leaf=11, min_samples_split=2,\n",
    "            min_weight_fraction_leaf=0.0, n_estimators=105, n_jobs=1,\n",
    "            oob_score=False, random_state=None, verbose=0,\n",
    "            warm_start=False)"
   ]
  },
  {
   "cell_type": "markdown",
   "metadata": {
    "collapsed": true
   },
   "source": [
    "                                         SECOND BEST RESULT"
   ]
  },
  {
   "cell_type": "markdown",
   "metadata": {},
   "source": [
    "0.895305424870401\n",
    "{'max_features': 'auto', 'min_samples_leaf': 12, 'n_estimators': 100}\n",
    "RandomForestClassifier(bootstrap=True, class_weight=None, criterion='gini',\n",
    "            max_depth=None, max_features='auto', max_leaf_nodes=None,\n",
    "            min_impurity_decrease=0.0, min_impurity_split=None,\n",
    "            min_samples_leaf=12, min_samples_split=2,\n",
    "            min_weight_fraction_leaf=0.0, n_estimators=100, n_jobs=1,\n",
    "            oob_score=False, random_state=None, verbose=0,\n",
    "            warm_start=False)"
   ]
  },
  {
   "cell_type": "markdown",
   "metadata": {},
   "source": [
    "                                            n_estimators"
   ]
  },
  {
   "cell_type": "code",
   "execution_count": 8,
   "metadata": {},
   "outputs": [
    {
     "name": "stdout",
     "output_type": "stream",
     "text": [
      "30 trees\n",
      "C-stat:  0.813258006548\n",
      "\n",
      "50 trees\n",
      "C-stat:  0.831781752451\n",
      "\n",
      "100 trees\n",
      "C-stat:  0.846812534951\n",
      "\n",
      "200 trees\n",
      "C-stat:  0.854172848576\n",
      "\n",
      "500 trees\n",
      "C-stat:  0.858070950317\n",
      "\n",
      "1000 trees\n",
      "C-stat:  0.859138136389\n",
      "\n",
      "2000 trees\n",
      "C-stat:  0.859646075622\n",
      "\n"
     ]
    }
   ],
   "source": [
    "results = []\n",
    "n_estimator_options = [30,50,100,200,500,1000,2000]\n",
    "for trees in n_estimator_options:\n",
    "    model = RandomForestRegressor(trees, oob_score = True, n_jobs = -1, random_state = 42)\n",
    "    model.fit(x, y)\n",
    "    print(trees,\"trees\")\n",
    "    roc = roc_auc_score(y, model.oob_prediction_)\n",
    "    print(\"C-stat: \", roc)\n",
    "    results.append(roc)\n",
    "    print(\"\")\n"
   ]
  },
  {
   "cell_type": "code",
   "execution_count": 9,
   "metadata": {},
   "outputs": [
    {
     "data": {
      "image/png": "[encoded data removed]",
      "text/plain": [
       "<matplotlib.figure.Figure at 0x1c14df2860>"
      ]
     },
     "metadata": {},
     "output_type": "display_data"
    }
   ],
   "source": [
    "pd.Series(results, n_estimator_options).plot();\n",
    "plt.savefig('n_estimators.png')"
   ]
  },
  {
   "cell_type": "markdown",
   "metadata": {},
   "source": [
    "                                              max_features "
   ]
  },
  {
   "cell_type": "code",
   "execution_count": 10,
   "metadata": {},
   "outputs": [
    {
     "name": "stdout",
     "output_type": "stream",
     "text": [
      "auto option\n",
      "C-stat:  0.859138136389\n",
      "\n",
      "None option\n",
      "C-stat:  0.859138136389\n",
      "\n",
      "sqrt option\n",
      "C-stat:  0.860665966599\n",
      "\n",
      "log2 option\n",
      "C-stat:  0.860665966599\n",
      "\n",
      "0.9 option\n",
      "C-stat:  0.859924273002\n",
      "\n",
      "0.2 option\n",
      "C-stat:  0.86336439712\n",
      "\n"
     ]
    },
    {
     "data": {
      "image/png": "[encoded data removed]",
      "text/plain": [
       "<matplotlib.figure.Figure at 0x1c0918d7b8>"
      ]
     },
     "metadata": {},
     "output_type": "display_data"
    }
   ],
   "source": [
    "results = []\n",
    "max_features_option = [\"auto\",None,\"sqrt\",\"log2\",0.9,0.2]\n",
    "for max_features in max_features_option:\n",
    "    model = RandomForestRegressor(n_estimators=1000, oob_score = True, n_jobs = -1, random_state = 42,max_features = max_features)\n",
    "    model.fit(x, y)\n",
    "    print(max_features,\"option\")\n",
    "    roc = roc_auc_score(y, model.oob_prediction_)\n",
    "    print(\"C-stat: \", roc)\n",
    "    results.append(roc)\n",
    "    print(\"\")\n",
    "pd.Series(results, max_features_option).plot(kind=\"barh\", xlim=(.85,.88));\n",
    "    "
   ]
  },
  {
   "cell_type": "code",
   "execution_count": 18,
   "metadata": {},
   "outputs": [
    {
     "data": {
      "image/png": "[encoded data removed]",
      "text/plain": [
       "<matplotlib.figure.Figure at 0x1c15c28080>"
      ]
     },
     "metadata": {},
     "output_type": "display_data"
    }
   ],
   "source": [
    "diagram = pd.Series(results, max_features_option).plot(kind=\"barh\", xlim=(.85,.88));\n",
    "plt.savefig('max_features.png')"
   ]
  },
  {
   "cell_type": "markdown",
   "metadata": {},
   "source": [
    "                                            min_samples_leaf"
   ]
  },
  {
   "cell_type": "code",
   "execution_count": 19,
   "metadata": {},
   "outputs": [
    {
     "name": "stdout",
     "output_type": "stream",
     "text": [
      "1 min samples\n",
      "C-stat:  0.86336439712\n",
      "\n",
      "2 min samples\n",
      "C-stat:  0.863474500142\n",
      "\n",
      "3 min samples\n",
      "C-stat:  0.863120075845\n",
      "\n",
      "4 min samples\n",
      "C-stat:  0.863053959899\n",
      "\n",
      "5 min samples\n",
      "C-stat:  0.862939289481\n",
      "\n",
      "6 min samples\n",
      "C-stat:  0.862695268378\n",
      "\n",
      "7 min samples\n",
      "C-stat:  0.862630527027\n",
      "\n",
      "8 min samples\n",
      "C-stat:  0.862532484732\n",
      "\n",
      "9 min samples\n",
      "C-stat:  0.862589266413\n",
      "\n",
      "10 min samples\n",
      "C-stat:  0.862300937204\n",
      "\n"
     ]
    },
    {
     "data": {
      "image/png": "[encoded data removed]",
      "text/plain": [
       "<matplotlib.figure.Figure at 0x1040ad908>"
      ]
     },
     "metadata": {},
     "output_type": "display_data"
    }
   ],
   "source": [
    "results = []\n",
    "min_sample_leaf_options = [1,2,3,4,5,6,7,8,9,10]\n",
    "for min_samples in min_sample_leaf_options:\n",
    "    model = RandomForestRegressor(n_estimators=1000, oob_score = True, n_jobs = -1, random_state = 42,max_features = 0.2, min_samples_leaf= min_samples)\n",
    "    model.fit(x, y)\n",
    "    print(min_samples,\"min samples\")\n",
    "    roc = roc_auc_score(y, model.oob_prediction_)\n",
    "    print(\"C-stat: \", roc)\n",
    "    results.append(roc)\n",
    "    print(\"\")\n",
    "pd.Series(results, min_sample_leaf_options).plot();"
   ]
  },
  {
   "cell_type": "code",
   "execution_count": 21,
   "metadata": {},
   "outputs": [
    {
     "data": {
      "image/png": "[encoded data removed]",
      "text/plain": [
       "<matplotlib.figure.Figure at 0x1c15c287b8>"
      ]
     },
     "metadata": {},
     "output_type": "display_data"
    }
   ],
   "source": [
    "diagram2 = pd.Series(results, min_sample_leaf_options).plot();\n",
    "plt.savefig('min_samples_leaf.png')"
   ]
  },
  {
   "cell_type": "markdown",
   "metadata": {
    "collapsed": true
   },
   "source": [
    "                                            CONFUSION MATRIX"
   ]
  },
  {
   "cell_type": "code",
   "execution_count": 22,
   "metadata": {},
   "outputs": [
    {
     "data": {
      "text/plain": [
       "RandomForestClassifier(bootstrap=True, class_weight=None, criterion='gini',\n",
       "            max_depth=None, max_features='auto', max_leaf_nodes=None,\n",
       "            min_impurity_decrease=0.0, min_impurity_split=None,\n",
       "            min_samples_leaf=8, min_samples_split=2,\n",
       "            min_weight_fraction_leaf=0.0, n_estimators=10, n_jobs=1,\n",
       "            oob_score=False, random_state=None, verbose=0,\n",
       "            warm_start=False)"
      ]
     },
     "execution_count": 22,
     "metadata": {},
     "output_type": "execute_result"
    }
   ],
   "source": [
    "from sklearn.cross_validation import train_test_split\n",
    "\n",
    "x_train, x_test, y_train, y_test = train_test_split(x, y, random_state = 0)\n",
    "\n",
    "clf = RandomForestClassifier(n_estimators=10,min_samples_leaf = 8)\n",
    "clf.fit(x_train, y_train)"
   ]
  },
  {
   "cell_type": "code",
   "execution_count": 23,
   "metadata": {
    "collapsed": true
   },
   "outputs": [],
   "source": [
    "y_pred_class = clf.predict(x_test)"
   ]
  },
  {
   "cell_type": "code",
   "execution_count": 31,
   "metadata": {
    "collapsed": true
   },
   "outputs": [],
   "source": [
    "def plot_confusion_matrix(cm, classes,\n",
    "                          normalize=False,\n",
    "                          title='Confusion matrix',\n",
    "                          cmap=plt.cm.Blues):\n",
    "    \"\"\"\n",
    "    This function prints and plots the confusion matrix.\n",
    "    Normalization can be applied by setting `normalize=True`.\n",
    "    \"\"\"\n",
    "    if normalize:\n",
    "        cm = cm.astype('float') / cm.sum(axis=1)[:, np.newaxis]\n",
    "        print(\"Normalized confusion matrix\")\n",
    "    else:\n",
    "        print('Confusion matrix, without normalization')\n",
    "\n",
    "    print(cm)\n",
    "\n",
    "    plt.imshow(cm, interpolation='nearest', cmap=cmap)\n",
    "    plt.title(title)\n",
    "    plt.colorbar()\n",
    "    tick_marks = np.arange(len(classes))\n",
    "    plt.xticks(tick_marks, classes, rotation=45)\n",
    "    plt.yticks(tick_marks, classes)\n",
    "\n",
    "    fmt = '.2f' if normalize else 'd'\n",
    "    thresh = cm.max() / 2.\n",
    "    for i, j in itertools.product(range(cm.shape[0]), range(cm.shape[1])):\n",
    "        plt.text(j, i, format(cm[i, j], fmt),\n",
    "                 horizontalalignment=\"center\",\n",
    "                 color=\"white\" if cm[i, j] > thresh else \"black\")\n",
    "\n",
    "    plt.tight_layout()\n",
    "    plt.ylabel('True label')\n",
    "    plt.xlabel('Predicted label')\n",
    "    plt.savefig('confusion_matrix.png')"
   ]
  },
  {
   "cell_type": "code",
   "execution_count": 32,
   "metadata": {},
   "outputs": [
    {
     "name": "stdout",
     "output_type": "stream",
     "text": [
      "Confusion matrix, without normalization\n",
      "[[85923  1786]\n",
      " [ 8492  3799]]\n"
     ]
    },
    {
     "data": {
      "image/png": "[encoded data removed]",
      "text/plain": [
       "<matplotlib.figure.Figure at 0x1c18314e80>"
      ]
     },
     "metadata": {},
     "output_type": "display_data"
    }
   ],
   "source": [
    "class_names = '' \n",
    "    #Compute confusion matrix\n",
    "cnf_matrix = confusion_matrix(y_test, y_pred_class)\n",
    "np.set_printoptions(precision=2)\n",
    "\n",
    "# Plot non-normalized confusion matrix\n",
    "plt.figure()\n",
    "plot_confusion_matrix(cnf_matrix, classes=class_names,\n",
    "                      title='Confusion matrix, without normalization')\n",
    "\n",
    "\n",
    "plt.show()\n"
   ]
  },
  {
   "cell_type": "markdown",
   "metadata": {},
   "source": [
    "True Possitives --------------------- Bottom right square shows number of corectly predicted vessel pixels \n",
    "\n",
    "True Negatives ---------------------- Upper left square is shows number of corectly predicted non vessel pixels \n",
    "\n",
    "False Positives --------------------- Upper right, incorrectly predicted that pixels are vessels \n",
    "\n",
    "False Negatives --------------------- Bottom left, incorrectly predicted that pixels are not vessels "
   ]
  },
  {
   "cell_type": "code",
   "execution_count": 4,
   "metadata": {
    "collapsed": true
   },
   "outputs": [],
   "source": [
    "df2 = pd.read_csv('processed_data.csv')   \n",
    "x_split = np.array(df)"
   ]
  },
  {
   "cell_type": "code",
   "execution_count": 5,
   "metadata": {
    "collapsed": true
   },
   "outputs": [],
   "source": [
    "split_ratio = 0.5\n",
    "\n",
    "df = pd.DataFrame(x_split)\n",
    "\n",
    "msk = np.random.rand(len(df)) < split_ratio\n",
    "\n",
    "data_train = df[msk]\n",
    "\n",
    "data_test = df[~msk]"
   ]
  },
  {
   "cell_type": "code",
   "execution_count": 6,
   "metadata": {
    "collapsed": true
   },
   "outputs": [],
   "source": [
    "array_train = np.array(data_train)\n",
    "array_test = np.array(data_test)"
   ]
  },
  {
   "cell_type": "code",
   "execution_count": 10,
   "metadata": {
    "collapsed": true
   },
   "outputs": [],
   "source": [
    "grid_size = 2\n",
    "X = array_train[:,0:grid_size**2] \n",
    "Y = array_train[:,grid_size**2]\n",
    "\n",
    "X_test = array_test[:,0:grid_size**2]\n",
    "Y_test = array_test[:,grid_size**2]\n"
   ]
  },
  {
   "cell_type": "code",
   "execution_count": 8,
   "metadata": {},
   "outputs": [
    {
     "name": "stdout",
     "output_type": "stream",
     "text": [
      "Accuracy on the training subset: 0.918\n",
      "Accuracy on the testing subset: 0.896\n"
     ]
    }
   ],
   "source": [
    "min_max_scaler = preprocessing.MinMaxScaler()\n",
    "X_train_minmax = min_max_scaler.fit_transform(X)\n",
    "\n",
    "# Spliting the data into train and test sets, the training set is 20% and test set is 80% in size\n",
    "x_train, x_test, y_train, y_test = cross_validation.train_test_split(X_train_minmax,Y,test_size=0.2)\n",
    "\n",
    "# Accessing sklearn library for this classifier\n",
    "clf = RandomForestClassifier(n_estimators=10,min_samples_leaf = 8)\n",
    "#clf = RandomForestClassifier(n_estimators=1000,min_samples_leaf = 2, max_features = 0.2)\n",
    "\n",
    "clf.fit(x_train,y_train)\n",
    "\n",
    "# Displaying the result\n",
    "print('Accuracy on the training subset: {:.3f}'.format(clf.score(x_train,y_train)))\n",
    "print('Accuracy on the testing subset: {:.3f}'.format(clf.score(x_test,y_test)))"
   ]
  },
  {
   "cell_type": "code",
   "execution_count": 9,
   "metadata": {},
   "outputs": [
    {
     "name": "stdout",
     "output_type": "stream",
     "text": [
      "Accuracy on validation set: 0.896\n"
     ]
    }
   ],
   "source": [
    "print('Accuracy on validation set: {:.3f}'.format(clf.score(X_test,Y_test)))"
   ]
  },
  {
   "cell_type": "code",
   "execution_count": 37,
   "metadata": {},
   "outputs": [
    {
     "name": "stdout",
     "output_type": "stream",
     "text": [
      "1 option\n",
      "C-stat:  0.86336439712\n",
      "\n",
      "2 option\n",
      "C-stat:  0.860665966599\n",
      "\n",
      "3 option\n",
      "C-stat:  0.859924273002\n",
      "\n",
      "4 option\n",
      "C-stat:  0.859138136389\n",
      "\n"
     ]
    },
    {
     "data": {
      "image/png": "[encoded data removed]",
      "text/plain": [
       "<matplotlib.figure.Figure at 0x1c08f1be48>"
      ]
     },
     "metadata": {},
     "output_type": "display_data"
    }
   ],
   "source": [
    "results = []\n",
    "max_features_option = [1,2,3,4]\n",
    "for max_features in max_features_option:\n",
    "    model = RandomForestRegressor(n_estimators=1000, oob_score = True, n_jobs = -1, random_state = 42,max_features = max_features)\n",
    "    model.fit(x, y)\n",
    "    print(max_features,\"option\")\n",
    "    roc = roc_auc_score(y, model.oob_prediction_)\n",
    "    print(\"C-stat: \", roc)\n",
    "    results.append(roc)\n",
    "    print(\"\")\n",
    "pd.Series(results, max_features_option).plot(kind=\"barh\", xlim=(.85,.88));"
   ]
  },
  {
   "cell_type": "code",
   "execution_count": null,
   "metadata": {
    "collapsed": true
   },
   "outputs": [],
   "source": []
  }
 ],
 "metadata": {
  "anaconda-cloud": {},
  "kernelspec": {
   "display_name": "Python 3",
   "language": "python",
   "name": "python3"
  },
  "language_info": {
   "codemirror_mode": {
    "name": "ipython",
    "version": 3
   },
   "file_extension": ".py",
   "mimetype": "text/x-python",
   "name": "python",
   "nbconvert_exporter": "python",
   "pygments_lexer": "ipython3",
   "version": "3.6.3"
  }
 },
 "nbformat": 4,
 "nbformat_minor": 1
}
